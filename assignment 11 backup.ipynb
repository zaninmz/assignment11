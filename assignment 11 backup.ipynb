{
 "cells": [
  {
   "cell_type": "code",
   "execution_count": null,
   "metadata": {
    "collapsed": true
   },
   "outputs": [],
   "source": [
    "fileLoc = \"/Users/martyzanin/Desktop/DS/WU/DS710/ds710spring2018assignment11/finefoods.txt\"\n",
    "with open(fileLoc, encoding = \"ISO-8859-1\") as review_file:\n",
    "    line = review_file.readlines()\n",
    "    #isolate colum values\n",
    "    prodID = [i for i in line if \"product/productId\" in i]\n",
    "    NumVotedHelpful = [i for i in line if \"review/helpfulness\" in i]\n",
    "    Rating = [i for i in line if \"review/score\" in i]\n",
    "    Text = [i for i in line if \"review/text\" in i]\n",
    "    #create productid column\n",
    "    PID = []\n",
    "    for i in prodID:\n",
    "        pid = i[19:]\n",
    "        pid = pid.strip()\n",
    "        PID.append(pid)\n",
    "    #create number of people who voted this review helpful column\n",
    "    Helpful = []\n",
    "    for i in NumVotedHelpful:\n",
    "        NVH = i.strip()\n",
    "        NVH = NVH.split(\"/\")\n",
    "        NVH = NVH[1][13:]\n",
    "        Helpful.append(NVH)\n",
    "    #create total number of people who rated this review column\n",
    "    Votes = []\n",
    "    for i in NumVotedHelpful:\n",
    "        TotalRated = i.split(\"review/helpfulness: \")[1]\n",
    "        TotalRated = TotalRated.split('/')\n",
    "        TotalRated = TotalRated[1]\n",
    "        TotalRated = TotalRated.strip()\n",
    "        Votes.append(TotalRated)\n",
    "    #create Reviewer's score rating of the product column\n",
    "    Rate = []\n",
    "    for i in Rating:\n",
    "        start = 'review/score: '\n",
    "        end = '\\n'\n",
    "        score = i[len(start):-len(end)-2]\n",
    "        score = score.strip()\n",
    "        Rate.append(score)\n",
    "    #create Text of the review column\n",
    "    RevText = []\n",
    "    for i in Text:\n",
    "        Txt = i[13:]\n",
    "        Txt = Txt.strip()\n",
    "        RevText.append(Txt)\n",
    "\n"
   ]
  },
  {
   "cell_type": "code",
   "execution_count": null,
   "metadata": {
    "collapsed": true
   },
   "outputs": [],
   "source": [
    "#create dataframe - not pythonic but prevents kernel from dying \n",
    "df = pd.DataFrame()\n",
    "df['NumHelpfulVotes'] = Helpful\n",
    "df['NumVotes'] = Votes\n",
    "df['Product_ID'] = PID \n",
    "df['Rating'] = Rate\n",
    "df['Review_Text'] = RevText"
   ]
  },
  {
   "cell_type": "code",
   "execution_count": null,
   "metadata": {
    "collapsed": true
   },
   "outputs": [],
   "source": [
    "#add review length column\n",
    "df['ReviewLength'] = df['Review_Text'].str.len()\n",
    "#add the number of exclamation points in a review column\n",
    "df['NumExclamations'] = df['Review_Text'].str.count(\"!\")\n",
    "#add the fraction of people who rated a review helpful column\n",
    "df[['NumHelpfulVotes','NumVotes']] = df[['NumHelpfulVotes','NumVotes']].apply(pd.to_numeric)\n",
    "df['HelpfulFraction'] = df['NumHelpfulVotes'] / df['NumVotes']"
   ]
  },
  {
   "cell_type": "code",
   "execution_count": null,
   "metadata": {
    "collapsed": true
   },
   "outputs": [],
   "source": [
    "#How many reviews are in the data set?\n",
    "print(len(df['Review_Text']))\n",
    "#What is the average length of a review (in characters)?\n",
    "print(df['ReviewLength'].mean())\n",
    "#What is the average rating?\n",
    "df['Rating'] = df['Rating'].apply(pd.to_numeric)\n",
    "print(df['Rating'].mean())\n",
    "#What is the greatest number of exclamation marks used in a single review?\n",
    "print(df['NumExclamations'].max())"
   ]
  },
  {
   "cell_type": "markdown",
   "metadata": {},
   "source": [
    "There are 568,454 reviews in this data set. The average length of a review is approximately 436 characters and the average rating is approximately 4 out of 5 stars. Surprisingly, the maximum number of exclamation points across all reviews is 84. I read the review, it is absurd."
   ]
  },
  {
   "cell_type": "code",
   "execution_count": null,
   "metadata": {
    "collapsed": true
   },
   "outputs": [],
   "source": [
    "#remove review text column\n",
    "df = df.drop('Review_Text', axis =1)\n",
    "#convert NaN to empty string\n",
    "df = df.fillna('')\n",
    "#write to csv\n",
    "df.to_csv(\"AmazonReviews.csv\", index=False)"
   ]
  }
 ],
 "metadata": {
  "kernelspec": {
   "display_name": "Python 3",
   "language": "python",
   "name": "python3"
  },
  "language_info": {
   "codemirror_mode": {
    "name": "ipython",
    "version": 3
   },
   "file_extension": ".py",
   "mimetype": "text/x-python",
   "name": "python",
   "nbconvert_exporter": "python",
   "pygments_lexer": "ipython3",
   "version": "3.6.1"
  }
 },
 "nbformat": 4,
 "nbformat_minor": 2
}
